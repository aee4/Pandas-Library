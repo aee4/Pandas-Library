{
 "cells": [
  {
   "cell_type": "markdown",
   "metadata": {},
   "source": [
    "#columns in each table are reffered to as a series and each table is a dataframe\n",
    "#dataframes are 2 dimensional data structures with rows and columns like excel \n",
    "#series are 1 dimensional data structures like lists or tuples\n",
    "#after initialization using the pandas library, we can apply several functions on them\n"
   ]
  },
  {
   "cell_type": "code",
   "execution_count": 4,
   "metadata": {},
   "outputs": [],
   "source": [
    "import pandas as pd"
   ]
  },
  {
   "cell_type": "code",
   "execution_count": 5,
   "metadata": {},
   "outputs": [],
   "source": [
    "df = pd.DataFrame({ \"Name\" : [\"Ama\", \"Nana\", \"Mimi\", \"Jenny\" , \"NAS\" , \"Alex\"],\n",
    "                     \"Sex\" : [\"Female\",\"Male\", \"Female\", \"Female\", \"Female\",\"Female\"],\n",
    "                     \"Age\" : [21, 19, 19, 23, 22, 20]\n",
    "    \n",
    "})"
   ]
  },
  {
   "cell_type": "code",
   "execution_count": 6,
   "metadata": {},
   "outputs": [
    {
     "name": "stdout",
     "output_type": "stream",
     "text": [
      "    Name     Sex  Age\n",
      "0    Ama  Female   21\n",
      "1   Nana    Male   19\n",
      "2   Mimi  Female   19\n",
      "3  Jenny  Female   23\n",
      "4    NAS  Female   22\n",
      "5   Alex  Female   20\n"
     ]
    }
   ],
   "source": [
    "print(df)"
   ]
  }
 ],
 "metadata": {
  "kernelspec": {
   "display_name": "base",
   "language": "python",
   "name": "python3"
  },
  "language_info": {
   "codemirror_mode": {
    "name": "ipython",
    "version": 3
   },
   "file_extension": ".py",
   "mimetype": "text/x-python",
   "name": "python",
   "nbconvert_exporter": "python",
   "pygments_lexer": "ipython3",
   "version": "3.11.7"
  }
 },
 "nbformat": 4,
 "nbformat_minor": 2
}
