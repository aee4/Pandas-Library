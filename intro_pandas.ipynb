{
 "cells": [
  {
   "cell_type": "markdown",
   "metadata": {},
   "source": [
    "#columns in each table are reffered to as a series and each table is a dataframe\n",
    "#dataframes are 2 dimensional data structures with rows and columns like excel \n",
    "#series are 1 dimensional data structures like lists or tuples\n",
    "#after initialization using the pandas library, we can apply several functions on them\n"
   ]
  },
  {
   "cell_type": "code",
   "execution_count": null,
   "metadata": {},
   "outputs": [],
   "source": [
    "import pandas as pd"
   ]
  },
  {
   "cell_type": "code",
   "execution_count": null,
   "metadata": {},
   "outputs": [],
   "source": [
    "df = pd.DataFrame({ \"Name\" : [\"Ama\", \"Nana\", \"Mimi\", \"Jenny\" , \"NAS\" , \"Alex\"],\n",
    "                     \"Sex\" : [\"Female\",\"Male\", \"Female\", \"Female\", \"Female\",\"Female\"],\n",
    "                     \"Age\" : [21, 19, 19, 23, 22, 20]\n",
    "    \n",
    "})"
   ]
  },
  {
   "cell_type": "code",
   "execution_count": null,
   "metadata": {},
   "outputs": [],
   "source": [
    "df"
   ]
  },
  {
   "cell_type": "code",
   "execution_count": null,
   "metadata": {},
   "outputs": [],
   "source": [
    "#columns can be selected like this\n",
    "#the following output will be a series\n",
    "#multiple columns can be selected at once too\n",
    "df[\"Name\"] "
   ]
  },
  {
   "cell_type": "code",
   "execution_count": null,
   "metadata": {},
   "outputs": [],
   "source": [
    "#creating a series from scratch\n",
    "series = pd.Series([23,45, 19, 20], name= \"Ages\")"
   ]
  },
  {
   "cell_type": "code",
   "execution_count": null,
   "metadata": {},
   "outputs": [],
   "source": [
    "series"
   ]
  },
  {
   "cell_type": "markdown",
   "metadata": {},
   "source": [
    "Applying functions on DataFrames and Series"
   ]
  },
  {
   "cell_type": "code",
   "execution_count": null,
   "metadata": {},
   "outputs": [],
   "source": [
    "#maximum function gives the largest age in the dataset\n",
    "df[\"Age\"].max()"
   ]
  },
  {
   "cell_type": "code",
   "execution_count": null,
   "metadata": {},
   "outputs": [],
   "source": [
    "#same for series too\n",
    "series.max()"
   ]
  },
  {
   "cell_type": "code",
   "execution_count": null,
   "metadata": {},
   "outputs": [],
   "source": [
    "#describes the dataset, numerical values\n",
    "df.describe()"
   ]
  },
  {
   "cell_type": "markdown",
   "metadata": {},
   "source": [
    "reading and writing data "
   ]
  },
  {
   "cell_type": "code",
   "execution_count": null,
   "metadata": {},
   "outputs": [],
   "source": [
    "#we use the read_csv to read csv files\n",
    "#low memory = False, allows us to view large datasets\n",
    "#double black slashes for file path\n",
    "movies = pd.read_csv(\"C:\\\\Users\\\\lenovo\\\\Desktop\\\\BUILD\\\\Machine Learning\\\\Pandas\\\\movies.csv\", low_memory= False)"
   ]
  },
  {
   "cell_type": "code",
   "execution_count": null,
   "metadata": {},
   "outputs": [],
   "source": [
    "movies"
   ]
  },
  {
   "cell_type": "code",
   "execution_count": null,
   "metadata": {},
   "outputs": [],
   "source": [
    "#this gives the first five rows\n",
    "movies.head(5)"
   ]
  },
  {
   "cell_type": "code",
   "execution_count": null,
   "metadata": {},
   "outputs": [],
   "source": [
    "#last 20 rows\n",
    "movies.tail(20)"
   ]
  },
  {
   "cell_type": "code",
   "execution_count": null,
   "metadata": {},
   "outputs": [],
   "source": [
    "#using the dtypes method gives us the datatype each column contains\n",
    "#dtypes is a attribute hence () are not used\n",
    "movies.dtypes"
   ]
  },
  {
   "cell_type": "code",
   "execution_count": null,
   "metadata": {},
   "outputs": [],
   "source": [
    "#as read_ is used to read data, to_ is used to store data in a specific format\n",
    "#to_excel changes it to an excel file\n",
    "#as such we can use the read_excel\n",
    "\n",
    "movies2 = movies.to_excel(\"movies.xlsx\",index=False)\n",
    "#this will create a new excel file named movies.xlsx in the same directory as the python script\n"
   ]
  },
  {
   "cell_type": "code",
   "execution_count": null,
   "metadata": {},
   "outputs": [],
   "source": [
    "# info provides technical information about a DataFrame\n",
    "movies.info()"
   ]
  }
 ],
 "metadata": {
  "kernelspec": {
   "display_name": "base",
   "language": "python",
   "name": "python3"
  },
  "language_info": {
   "codemirror_mode": {
    "name": "ipython",
    "version": 3
   },
   "file_extension": ".py",
   "mimetype": "text/x-python",
   "name": "python",
   "nbconvert_exporter": "python",
   "pygments_lexer": "ipython3",
   "version": "3.11.7"
  }
 },
 "nbformat": 4,
 "nbformat_minor": 2
}
